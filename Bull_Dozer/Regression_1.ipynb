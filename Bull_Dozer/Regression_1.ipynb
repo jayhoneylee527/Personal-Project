{
 "cells": [
  {
   "cell_type": "code",
   "execution_count": 1,
   "metadata": {},
   "outputs": [],
   "source": [
    "import pandas as pd\n",
    "import numpy as np\n",
    "import seaborn as sns\n",
    "import matplotlib as mpl\n",
    "import matplotlib.pyplot as plt\n",
    "import matplotlib.font_manager as font_manager\n",
    "from pandas.plotting import scatter_matrix\n",
    "from sklearn import preprocessing, metrics\n",
    "import category_encoders as ce\n",
    "\n",
    "from xgboost import XGBRegressor\n",
    "from sklearn.impute import SimpleImputer\n",
    "from sklearn.preprocessing import OneHotEncoder, LabelEncoder\n",
    "from sklearn.ensemble import RandomForestRegressor\n",
    "from sklearn.model_selection import cross_val_score, train_test_split, GridSearchCV, RandomizedSearchCV\n",
    "from sklearn.pipeline import Pipeline\n",
    "from sklearn.metrics import mean_absolute_error, make_scorer\n",
    "from sklearn.linear_model import LinearRegression\n",
    "from sklearn.svm import LinearSVR\n",
    "import warnings\n",
    "\n",
    "warnings.filterwarnings(\"ignore\")\n"
   ]
  },
  {
   "cell_type": "code",
   "execution_count": 2,
   "metadata": {},
   "outputs": [],
   "source": [
    "# Read files \n",
    "df_train = pd.read_csv('TrainAndValid.csv')\n",
    "df_valid_x = pd.read_csv('Valid.csv')\n",
    "df_valid_y = pd.DataFrame(pd.read_csv('ValidSolution.csv').SalePrice)\n",
    "df_test = pd.read_csv('Test.csv')\n",
    "\n",
    "df_train.set_index('SalesID', inplace=True)\n",
    "df_valid_x.set_index('SalesID', inplace=True)\n",
    "df_test.set_index('SalesID', inplace=True)\n",
    "\n",
    "# df_train contains both train and valid set, so separate two of them\n",
    "train_index = list(set(df_train.index) - set(df_valid_x.index))\n",
    "df_train = df_train.loc[train_index]\n",
    "\n",
    "# Save indices for df_train and df_test - We will use it later to separate two df after encodings\n",
    "valid_index = df_valid_x.index \n",
    "test_index = df_test.index\n",
    "\n",
    "dfs = [df_train, df_valid_x, df_test]\n",
    "\n",
    "for df in dfs:\n",
    "    df['saledate'] = pd.to_datetime(df['saledate'], infer_datetime_format=True)\n",
    "    df['SaleYear'] = df['saledate'].dt.year \n",
    "    df['SaleMonth'] = df['saledate'].dt.month\n",
    "    df.drop('saledate', axis=1, inplace=True)\n",
    "    df.drop('fiModelDesc', axis=1, inplace=True)\n",
    "    "
   ]
  },
  {
   "cell_type": "markdown",
   "metadata": {},
   "source": [
    "Interesting. We have None or Unspecified in object columns, which should equate to NaN?"
   ]
  },
  {
   "cell_type": "code",
   "execution_count": 3,
   "metadata": {},
   "outputs": [
    {
     "data": {
      "text/plain": [
       "SalePrice                   0.000000\n",
       "MachineID                   0.000000\n",
       "ModelID                     0.000000\n",
       "datasource                  0.000000\n",
       "auctioneerID                0.050199\n",
       "YearMade                    0.000000\n",
       "MachineHoursCurrentMeter    0.644089\n",
       "UsageBand                   0.826391\n",
       "fiBaseModel                 0.000000\n",
       "fiSecondaryDesc             0.342016\n",
       "fiModelSeries               0.858129\n",
       "fiModelDescriptor           0.820707\n",
       "ProductSize                 0.525460\n",
       "fiProductClassDesc          0.000000\n",
       "state                       0.000000\n",
       "ProductGroup                0.000000\n",
       "ProductGroupDesc            0.000000\n",
       "Drive_System                0.739829\n",
       "Enclosure                   0.000815\n",
       "Forks                       0.965654\n",
       "Pad_Type                    0.978760\n",
       "Ride_Control                0.786874\n",
       "Stick                       0.802720\n",
       "Transmission                0.600915\n",
       "Turbocharged                0.990220\n",
       "Blade_Extension             0.998686\n",
       "Blade_Width                 0.960272\n",
       "Enclosure_Type              0.991783\n",
       "Engine_Horsepower           0.937129\n",
       "Hydraulics                  0.200848\n",
       "Pushblock                   0.985650\n",
       "Ripper                      0.948433\n",
       "Scarifier                   0.968810\n",
       "Tip_Control                 0.977533\n",
       "Tire_Size                   0.879392\n",
       "Coupler                     0.926781\n",
       "Coupler_System              0.992451\n",
       "Grouser_Tracks              0.992902\n",
       "Hydraulics_Flow             0.891961\n",
       "Track_Type                  0.752813\n",
       "Undercarriage_Pad_Width     0.949589\n",
       "Stick_Length                0.949148\n",
       "Thumb                       0.959626\n",
       "Pattern_Changer             0.977655\n",
       "Grouser_Type                0.752813\n",
       "Backhoe_Mounting            0.999950\n",
       "Blade_Type                  0.829475\n",
       "Travel_Controls             0.975292\n",
       "Differential_Type           0.826959\n",
       "Steering_Controls           0.827064\n",
       "SaleYear                    0.000000\n",
       "SaleMonth                   0.000000\n",
       "dtype: float64"
      ]
     },
     "execution_count": 3,
     "metadata": {},
     "output_type": "execute_result"
    }
   ],
   "source": [
    "\n",
    "# Columns with 'None or Unspecified'\n",
    "df_train.isin(['None or Unspecified']).any()\n",
    "\n",
    "# Replace \"None or Unspecified\" with NaN\n",
    "for df in dfs:\n",
    "    df.replace('None or Unspecified', np.nan, inplace=True)\n",
    "\n",
    "df_train.isin(['None or Unspecified']).any()\n",
    "\n",
    "# Find out the proportion of missing values in its column\n",
    "df_train.isna().sum() / len(df_train)"
   ]
  },
  {
   "cell_type": "code",
   "execution_count": 4,
   "metadata": {},
   "outputs": [
    {
     "data": {
      "text/plain": [
       "UsageBand                     3\n",
       "fiBaseModel                1950\n",
       "fiSecondaryDesc             175\n",
       "fiModelSeries               128\n",
       "fiModelDescriptor           139\n",
       "ProductSize                   6\n",
       "fiProductClassDesc           74\n",
       "state                        53\n",
       "ProductGroup                  6\n",
       "ProductGroupDesc              6\n",
       "Drive_System                  4\n",
       "Enclosure                     5\n",
       "Forks                         1\n",
       "Pad_Type                      3\n",
       "Ride_Control                  2\n",
       "Stick                         2\n",
       "Transmission                  7\n",
       "Turbocharged                  1\n",
       "Blade_Extension               1\n",
       "Blade_Width                   5\n",
       "Enclosure_Type                2\n",
       "Engine_Horsepower             2\n",
       "Hydraulics                   11\n",
       "Pushblock                     1\n",
       "Ripper                        3\n",
       "Scarifier                     1\n",
       "Tip_Control                   2\n",
       "Tire_Size                    16\n",
       "Coupler                       2\n",
       "Coupler_System                1\n",
       "Grouser_Tracks                1\n",
       "Hydraulics_Flow               2\n",
       "Track_Type                    2\n",
       "Undercarriage_Pad_Width      18\n",
       "Stick_Length                 28\n",
       "Thumb                         2\n",
       "Pattern_Changer               2\n",
       "Grouser_Type                  3\n",
       "Backhoe_Mounting              1\n",
       "Blade_Type                    9\n",
       "Travel_Controls               6\n",
       "Differential_Type             4\n",
       "Steering_Controls             5\n",
       "dtype: int64"
      ]
     },
     "metadata": {},
     "output_type": "display_data"
    },
    {
     "data": {
      "text/plain": [
       "datasource                       5\n",
       "SaleYear                        23\n",
       "YearMade                        72\n",
       "SalePrice                      899\n",
       "auctioneerID                    30\n",
       "ModelID                       5218\n",
       "MachineID                   341027\n",
       "SaleMonth                       12\n",
       "MachineHoursCurrentMeter     15152\n",
       "dtype: int64"
      ]
     },
     "metadata": {},
     "output_type": "display_data"
    },
    {
     "data": {
      "text/plain": [
       "datasource                       0\n",
       "SaleYear                         0\n",
       "YearMade                         0\n",
       "SalePrice                        0\n",
       "auctioneerID                 20136\n",
       "ModelID                          0\n",
       "MachineID                        0\n",
       "SaleMonth                        0\n",
       "MachineHoursCurrentMeter    258360\n",
       "dtype: int64"
      ]
     },
     "metadata": {},
     "output_type": "display_data"
    }
   ],
   "source": [
    "# make lists of column names with object dtype\n",
    "cat_cols = [i for i in df_train.columns if df_train[i].dtype == 'object']\n",
    "num_cols = list(set(df_train.columns) - set(cat_cols))\n",
    "\n",
    "# Find number of unique values in each column with object dtype\n",
    "display(df_train[cat_cols].nunique())\n",
    "\n",
    "# Find number of unique values in each column with num dtype\n",
    "display(df_train[num_cols].nunique())\n",
    "\n",
    "# Is there any empty entry for num_cols?\n",
    "display(df_train[num_cols].isna().sum())"
   ]
  },
  {
   "cell_type": "markdown",
   "metadata": {},
   "source": [
    "# EDA\n",
    "* Try to find distribution of our data\n",
    "* Will be continued later after some of the values are imputed"
   ]
  },
  {
   "cell_type": "code",
   "execution_count": 5,
   "metadata": {},
   "outputs": [
    {
     "name": "stdout",
     "output_type": "stream",
     "text": [
      "SalesID\n",
      "2701980    1000\n",
      "1737749    1000\n",
      "1173071    1000\n",
      "1737746    1000\n",
      "1173074    1000\n",
      "           ... \n",
      "6287739    2011\n",
      "6282508    2011\n",
      "6287742    2011\n",
      "2226857    2012\n",
      "6275685    2013\n",
      "Name: YearMade, Length: 401125, dtype: int64\n"
     ]
    },
    {
     "data": {
      "image/png": "[encoded data removed]",
      "text/plain": [
       "<Figure size 432x288 with 1 Axes>"
      ]
     },
     "metadata": {
      "needs_background": "light"
     },
     "output_type": "display_data"
    },
    {
     "data": {
      "image/png": "[encoded data removed]",
      "text/plain": [
       "<Figure size 432x288 with 1 Axes>"
      ]
     },
     "metadata": {
      "needs_background": "light"
     },
     "output_type": "display_data"
    },
    {
     "data": {
      "image/png": "[encoded data removed]",
      "text/plain": [
       "<Figure size 432x288 with 1 Axes>"
      ]
     },
     "metadata": {
      "needs_background": "light"
     },
     "output_type": "display_data"
    },
    {
     "data": {
      "image/png": "[encoded data removed]",
      "text/plain": [
       "<Figure size 432x288 with 1 Axes>"
      ]
     },
     "metadata": {
      "needs_background": "light"
     },
     "output_type": "display_data"
    },
    {
     "data": {
      "image/png": "[encoded data removed]",
      "text/plain": [
       "<Figure size 432x288 with 1 Axes>"
      ]
     },
     "metadata": {
      "needs_background": "light"
     },
     "output_type": "display_data"
    }
   ],
   "source": [
    "# Check if year made is valid for all \n",
    "print(df_train['YearMade'].sort_values())\n",
    "\n",
    "# Check how many are invalid\n",
    "(df_train['YearMade'] == 1000).value_counts()\n",
    "\n",
    "df_train['SalePrice'].plot.hist(bins=100)\n",
    "plt.title('Sale Price Distribution')\n",
    "plt.show()\n",
    "\n",
    "df_train[df_train['YearMade'] != 1000]['YearMade'].plot.hist(bins=100, color='c')\n",
    "plt.title('Year Made Distribution')\n",
    "plt.show()\n",
    "\n",
    "temp_x = df_train[df_train['YearMade'] != 1000].YearMade\n",
    "temp_y = df_train[df_train['YearMade'] != 1000].SalePrice\n",
    "\n",
    "plt.hist2d(temp_x, temp_y, bins=100, cmap=plt.cm.PuBu)\n",
    "plt.title('Year Made vs Sale Price')\n",
    "plt.show()\n",
    "\n",
    "plt.hist2d(df_train['SaleYear'], df_train['SalePrice'], bins=100, cmap=plt.cm.PuBu, alpha=1)\n",
    "plt.title('Year Sold vs Sale Price')\n",
    "plt.show()\n",
    "\n",
    "df_train['MachineHoursCurrentMeter'].plot.hist(range=(0,100000), density=True, bins=100, cumulative=True, histtype='step')\n",
    "plt.title(\"Cumulative Distribution of Current Meter\")\n",
    "plt.show()"
   ]
  },
  {
   "cell_type": "markdown",
   "metadata": {},
   "source": [
    "## Strategies?\n",
    "* Some \"YearMade\" equal to 1000, which we should consider as nan. Use imputer later.\n",
    "* Majority of machines have 0 as a current meter. FIll NaN with 0.\n",
    "* SaleYear - YearMade could be a new feature \n",
    "\n",
    "## Let's start with num_cols for filling in missing data"
   ]
  },
  {
   "cell_type": "code",
   "execution_count": 6,
   "metadata": {},
   "outputs": [],
   "source": [
    "df_train['YearMade'].replace(1000, np.nan, inplace=True)\n",
    "df_valid_x['YearMade'].replace(1000, np.nan, inplace=True)\n",
    "df_test['YearMade'].replace(1000, np.nan, inplace=True)\n",
    "\n",
    "imputer = SimpleImputer(strategy='mean', missing_values=np.nan)\n",
    "df_train['YearMade'] = imputer.fit_transform(pd.DataFrame(df_train.YearMade))\n",
    "df_valid_x['YearMade'] = imputer.transform(pd.DataFrame(df_valid_x.YearMade))\n",
    "df_test['YearMade'] = imputer.transform(pd.DataFrame(df_test.YearMade))\n",
    "\n",
    "for df in dfs:\n",
    "    # Fill nan current meter as 0 \n",
    "    df['MachineHoursCurrentMeter'].replace(np.nan, 0, inplace=True)\n",
    "    # Fill empty auctioneer ID as 1\n",
    "    df['auctioneerID'].replace(np.nan, -1, inplace=True)\n",
    "    # Make a new feature - (SaleYear - YearMade)\n",
    "    df['OwnPeriod'] = df['SaleYear'] - df['YearMade']\n",
    "\n",
    "# New column added\n",
    "num_cols.append('OwnPeriod')"
   ]
  },
  {
   "cell_type": "code",
   "execution_count": 7,
   "metadata": {},
   "outputs": [
    {
     "data": {
      "text/plain": [
       "SalesID\n",
       "2334131    0.0\n",
       "6291474    0.0\n",
       "2334132    0.0\n",
       "6291521    0.0\n",
       "6291529    0.0\n",
       "          ... \n",
       "6291341    0.0\n",
       "2334127    0.0\n",
       "6291384    0.0\n",
       "2334130    0.0\n",
       "6291441    0.0\n",
       "Name: MachineHoursCurrentMeter, Length: 401125, dtype: float64"
      ]
     },
     "metadata": {},
     "output_type": "display_data"
    }
   ],
   "source": [
    "display(df_train['MachineHoursCurrentMeter'])\n"
   ]
  },
  {
   "cell_type": "code",
   "execution_count": 8,
   "metadata": {},
   "outputs": [
    {
     "name": "stdout",
     "output_type": "stream",
     "text": [
      "datasource                  0\n",
      "SaleYear                    0\n",
      "YearMade                    0\n",
      "SalePrice                   0\n",
      "auctioneerID                0\n",
      "ModelID                     0\n",
      "MachineID                   0\n",
      "SaleMonth                   0\n",
      "MachineHoursCurrentMeter    0\n",
      "OwnPeriod                   0\n",
      "dtype: int64\n"
     ]
    },
    {
     "data": {
      "text/plain": [
       "<matplotlib.axes._subplots.AxesSubplot at 0x1cfe51f3188>"
      ]
     },
     "execution_count": 8,
     "metadata": {},
     "output_type": "execute_result"
    },
    {
     "data": {
      "image/png": "[encoded data removed]",
      "text/plain": [
       "<Figure size 720x360 with 2 Axes>"
      ]
     },
     "metadata": {
      "needs_background": "light"
     },
     "output_type": "display_data"
    }
   ],
   "source": [
    "print(df_train[num_cols].isna().sum())\n",
    "\n",
    "# Show correlation among numerical variables\n",
    "plt.figure(figsize=(10,5))\n",
    "sns.heatmap(data = df_train.corr(), annot=True, \n",
    "fmt = '.2f', linewidths=.5, cmap='Blues')"
   ]
  },
  {
   "cell_type": "markdown",
   "metadata": {},
   "source": [
    "### Now onto categorical features"
   ]
  },
  {
   "cell_type": "code",
   "execution_count": 9,
   "metadata": {},
   "outputs": [
    {
     "data": {
      "text/plain": [
       "UsageBand                     3\n",
       "fiBaseModel                1950\n",
       "fiSecondaryDesc             175\n",
       "fiModelSeries               128\n",
       "fiModelDescriptor           139\n",
       "ProductSize                   6\n",
       "fiProductClassDesc           74\n",
       "state                        53\n",
       "ProductGroup                  6\n",
       "ProductGroupDesc              6\n",
       "Drive_System                  4\n",
       "Enclosure                     5\n",
       "Forks                         1\n",
       "Pad_Type                      3\n",
       "Ride_Control                  2\n",
       "Stick                         2\n",
       "Transmission                  7\n",
       "Turbocharged                  1\n",
       "Blade_Extension               1\n",
       "Blade_Width                   5\n",
       "Enclosure_Type                2\n",
       "Engine_Horsepower             2\n",
       "Hydraulics                   11\n",
       "Pushblock                     1\n",
       "Ripper                        3\n",
       "Scarifier                     1\n",
       "Tip_Control                   2\n",
       "Tire_Size                    16\n",
       "Coupler                       2\n",
       "Coupler_System                1\n",
       "Grouser_Tracks                1\n",
       "Hydraulics_Flow               2\n",
       "Track_Type                    2\n",
       "Undercarriage_Pad_Width      18\n",
       "Stick_Length                 28\n",
       "Thumb                         2\n",
       "Pattern_Changer               2\n",
       "Grouser_Type                  3\n",
       "Backhoe_Mounting              1\n",
       "Blade_Type                    9\n",
       "Travel_Controls               6\n",
       "Differential_Type             4\n",
       "Steering_Controls             5\n",
       "dtype: int64"
      ]
     },
     "metadata": {},
     "output_type": "display_data"
    },
    {
     "data": {
      "text/plain": [
       "UsageBand                  331486\n",
       "fiBaseModel                     0\n",
       "fiSecondaryDesc            137191\n",
       "fiModelSeries              344217\n",
       "fiModelDescriptor          329206\n",
       "ProductSize                210775\n",
       "fiProductClassDesc              0\n",
       "state                           0\n",
       "ProductGroup                    0\n",
       "ProductGroupDesc                0\n",
       "Drive_System               296764\n",
       "Enclosure                     327\n",
       "Forks                      387348\n",
       "Pad_Type                   392605\n",
       "Ride_Control               315635\n",
       "Stick                      321991\n",
       "Transmission               241042\n",
       "Turbocharged               397202\n",
       "Blade_Extension            400598\n",
       "Blade_Width                385189\n",
       "Enclosure_Type             397829\n",
       "Engine_Horsepower          375906\n",
       "Hydraulics                  80565\n",
       "Pushblock                  395369\n",
       "Ripper                     380440\n",
       "Scarifier                  388614\n",
       "Tip_Control                392113\n",
       "Tire_Size                  352746\n",
       "Coupler                    371755\n",
       "Coupler_System             398097\n",
       "Grouser_Tracks             398278\n",
       "Hydraulics_Flow            357788\n",
       "Track_Type                 301972\n",
       "Undercarriage_Pad_Width    380904\n",
       "Stick_Length               380727\n",
       "Thumb                      384930\n",
       "Pattern_Changer            392162\n",
       "Grouser_Type               301972\n",
       "Backhoe_Mounting           401105\n",
       "Blade_Type                 332723\n",
       "Travel_Controls            391214\n",
       "Differential_Type          331714\n",
       "Steering_Controls          331756\n",
       "dtype: int64"
      ]
     },
     "metadata": {},
     "output_type": "display_data"
    },
    {
     "name": "stdout",
     "output_type": "stream",
     "text": [
      "fiBaseModel {'HL720', 'E30', 'H12', '524', 'PT80', 'SOLAR 250', 'G170', 'ROBOT 165', 'R410', 'JS300', 'EX130', 'ROBEX130', 'HD900', '840-2', 'S650', 'L778', 'ECR145', 'TC75', 'PT100'}\n",
      "fiSecondaryDesc {' ZTS', '-7A', 'XTD', '5A'}\n",
      "fiModelSeries {'XR'}\n",
      "fiModelDescriptor {'HST', 'CL', 'W'}\n",
      "Backhoe_Mounting {nan}\n"
     ]
    }
   ],
   "source": [
    "# Show number of unique values in catgorical columns\n",
    "display(df_train[cat_cols].nunique())\n",
    "\n",
    "# Show number of nan values in categorical columns \n",
    "display(df_train[cat_cols].isna().sum())\n",
    "\n",
    "# Let's see if there are any entries in the df_test that are not in df_train\n",
    "\n",
    "for cat in cat_cols:\n",
    "    if len(list(set(df_test[cat].unique()) - set(df_train[cat].unique()))) != 0:\n",
    "        print(cat, set(df_test[cat].unique()) - set(df_train[cat].unique()))\n",
    "        \n",
    "# There are some entries in the df_test that are not in df_train. \n",
    "\n"
   ]
  },
  {
   "cell_type": "code",
   "execution_count": 10,
   "metadata": {},
   "outputs": [],
   "source": [
    "# Fill all nan with '' for categorical columns\n",
    "df_train.fillna('',inplace=True)\n",
    "df_valid_x.fillna('',inplace=True)\n",
    "df_test.fillna('',inplace=True)\n",
    "\n",
    "# Any empty columns?\n",
    "assert(df_train.isna().any().sum() == 0)\n"
   ]
  },
  {
   "cell_type": "markdown",
   "metadata": {},
   "source": [
    "## Encoding\n",
    "* Use Label Encoder for categorical columns with more than 5 unique values\n",
    "* Use one-hot encoder otherwise\n",
    "\n"
   ]
  },
  {
   "cell_type": "code",
   "execution_count": 11,
   "metadata": {},
   "outputs": [],
   "source": [
    "# First create df_train_x\n",
    "df_train_x = df_train.drop('SalePrice', axis=1)\n",
    "df_train_y = df_train.SalePrice\n",
    "\n",
    "# We will encode altogether\n",
    "df = pd.concat([df_train_x, df_valid_x, df_test], axis=0)\n"
   ]
  },
  {
   "cell_type": "code",
   "execution_count": 12,
   "metadata": {},
   "outputs": [
    {
     "data": {
      "text/html": [
       "<div>\n",
       "<style scoped>\n",
       "    .dataframe tbody tr th:only-of-type {\n",
       "        vertical-align: middle;\n",
       "    }\n",
       "\n",
       "    .dataframe tbody tr th {\n",
       "        vertical-align: top;\n",
       "    }\n",
       "\n",
       "    .dataframe thead th {\n",
       "        text-align: right;\n",
       "    }\n",
       "</style>\n",
       "<table border=\"1\" class=\"dataframe\">\n",
       "  <thead>\n",
       "    <tr style=\"text-align: right;\">\n",
       "      <th></th>\n",
       "      <th>MachineID</th>\n",
       "      <th>ModelID</th>\n",
       "      <th>datasource</th>\n",
       "      <th>auctioneerID</th>\n",
       "      <th>YearMade</th>\n",
       "      <th>MachineHoursCurrentMeter</th>\n",
       "      <th>UsageBand</th>\n",
       "      <th>fiBaseModel</th>\n",
       "      <th>fiSecondaryDesc</th>\n",
       "      <th>fiModelSeries</th>\n",
       "      <th>...</th>\n",
       "      <th>Pattern_Changer</th>\n",
       "      <th>Grouser_Type</th>\n",
       "      <th>Backhoe_Mounting</th>\n",
       "      <th>Blade_Type</th>\n",
       "      <th>Travel_Controls</th>\n",
       "      <th>Differential_Type</th>\n",
       "      <th>Steering_Controls</th>\n",
       "      <th>SaleYear</th>\n",
       "      <th>SaleMonth</th>\n",
       "      <th>OwnPeriod</th>\n",
       "    </tr>\n",
       "    <tr>\n",
       "      <th>SalesID</th>\n",
       "      <th></th>\n",
       "      <th></th>\n",
       "      <th></th>\n",
       "      <th></th>\n",
       "      <th></th>\n",
       "      <th></th>\n",
       "      <th></th>\n",
       "      <th></th>\n",
       "      <th></th>\n",
       "      <th></th>\n",
       "      <th></th>\n",
       "      <th></th>\n",
       "      <th></th>\n",
       "      <th></th>\n",
       "      <th></th>\n",
       "      <th></th>\n",
       "      <th></th>\n",
       "      <th></th>\n",
       "      <th></th>\n",
       "      <th></th>\n",
       "      <th></th>\n",
       "    </tr>\n",
       "  </thead>\n",
       "  <tbody>\n",
       "    <tr>\n",
       "      <th>2334131</th>\n",
       "      <td>1456138</td>\n",
       "      <td>4665</td>\n",
       "      <td>136</td>\n",
       "      <td>8.0</td>\n",
       "      <td>1993.000000</td>\n",
       "      <td>0.0</td>\n",
       "      <td></td>\n",
       "      <td>450</td>\n",
       "      <td>G</td>\n",
       "      <td></td>\n",
       "      <td>...</td>\n",
       "      <td></td>\n",
       "      <td></td>\n",
       "      <td></td>\n",
       "      <td>PAT</td>\n",
       "      <td></td>\n",
       "      <td></td>\n",
       "      <td></td>\n",
       "      <td>2008</td>\n",
       "      <td>7</td>\n",
       "      <td>15.000000</td>\n",
       "    </tr>\n",
       "    <tr>\n",
       "      <th>6291474</th>\n",
       "      <td>1821164</td>\n",
       "      <td>15154</td>\n",
       "      <td>149</td>\n",
       "      <td>1.0</td>\n",
       "      <td>1996.000000</td>\n",
       "      <td>0.0</td>\n",
       "      <td></td>\n",
       "      <td>EX60</td>\n",
       "      <td></td>\n",
       "      <td>LC</td>\n",
       "      <td>...</td>\n",
       "      <td></td>\n",
       "      <td>Double</td>\n",
       "      <td></td>\n",
       "      <td></td>\n",
       "      <td></td>\n",
       "      <td></td>\n",
       "      <td></td>\n",
       "      <td>2011</td>\n",
       "      <td>10</td>\n",
       "      <td>15.000000</td>\n",
       "    </tr>\n",
       "    <tr>\n",
       "      <th>2334132</th>\n",
       "      <td>1684175</td>\n",
       "      <td>4640</td>\n",
       "      <td>136</td>\n",
       "      <td>-1.0</td>\n",
       "      <td>1993.000000</td>\n",
       "      <td>0.0</td>\n",
       "      <td></td>\n",
       "      <td>410</td>\n",
       "      <td>D</td>\n",
       "      <td></td>\n",
       "      <td>...</td>\n",
       "      <td></td>\n",
       "      <td></td>\n",
       "      <td></td>\n",
       "      <td></td>\n",
       "      <td></td>\n",
       "      <td></td>\n",
       "      <td></td>\n",
       "      <td>2008</td>\n",
       "      <td>12</td>\n",
       "      <td>15.000000</td>\n",
       "    </tr>\n",
       "    <tr>\n",
       "      <th>6291521</th>\n",
       "      <td>1910631</td>\n",
       "      <td>8713</td>\n",
       "      <td>149</td>\n",
       "      <td>1.0</td>\n",
       "      <td>1989.000000</td>\n",
       "      <td>0.0</td>\n",
       "      <td></td>\n",
       "      <td>EX120</td>\n",
       "      <td></td>\n",
       "      <td></td>\n",
       "      <td>...</td>\n",
       "      <td></td>\n",
       "      <td>Double</td>\n",
       "      <td></td>\n",
       "      <td></td>\n",
       "      <td></td>\n",
       "      <td></td>\n",
       "      <td></td>\n",
       "      <td>2011</td>\n",
       "      <td>11</td>\n",
       "      <td>22.000000</td>\n",
       "    </tr>\n",
       "    <tr>\n",
       "      <th>6291529</th>\n",
       "      <td>1813932</td>\n",
       "      <td>11585</td>\n",
       "      <td>149</td>\n",
       "      <td>12.0</td>\n",
       "      <td>1993.757403</td>\n",
       "      <td>0.0</td>\n",
       "      <td></td>\n",
       "      <td>EX100</td>\n",
       "      <td></td>\n",
       "      <td>-2</td>\n",
       "      <td>...</td>\n",
       "      <td></td>\n",
       "      <td>Double</td>\n",
       "      <td></td>\n",
       "      <td></td>\n",
       "      <td></td>\n",
       "      <td></td>\n",
       "      <td></td>\n",
       "      <td>2011</td>\n",
       "      <td>9</td>\n",
       "      <td>17.242597</td>\n",
       "    </tr>\n",
       "    <tr>\n",
       "      <th>...</th>\n",
       "      <td>...</td>\n",
       "      <td>...</td>\n",
       "      <td>...</td>\n",
       "      <td>...</td>\n",
       "      <td>...</td>\n",
       "      <td>...</td>\n",
       "      <td>...</td>\n",
       "      <td>...</td>\n",
       "      <td>...</td>\n",
       "      <td>...</td>\n",
       "      <td>...</td>\n",
       "      <td>...</td>\n",
       "      <td>...</td>\n",
       "      <td>...</td>\n",
       "      <td>...</td>\n",
       "      <td>...</td>\n",
       "      <td>...</td>\n",
       "      <td>...</td>\n",
       "      <td>...</td>\n",
       "      <td>...</td>\n",
       "      <td>...</td>\n",
       "    </tr>\n",
       "    <tr>\n",
       "      <th>6291341</th>\n",
       "      <td>1534873</td>\n",
       "      <td>8724</td>\n",
       "      <td>149</td>\n",
       "      <td>1.0</td>\n",
       "      <td>1989.000000</td>\n",
       "      <td>0.0</td>\n",
       "      <td></td>\n",
       "      <td>EX60</td>\n",
       "      <td></td>\n",
       "      <td></td>\n",
       "      <td>...</td>\n",
       "      <td></td>\n",
       "      <td>Double</td>\n",
       "      <td></td>\n",
       "      <td></td>\n",
       "      <td></td>\n",
       "      <td></td>\n",
       "      <td></td>\n",
       "      <td>2011</td>\n",
       "      <td>9</td>\n",
       "      <td>22.000000</td>\n",
       "    </tr>\n",
       "    <tr>\n",
       "      <th>2334127</th>\n",
       "      <td>1272847</td>\n",
       "      <td>8174</td>\n",
       "      <td>136</td>\n",
       "      <td>9.0</td>\n",
       "      <td>1993.757403</td>\n",
       "      <td>0.0</td>\n",
       "      <td></td>\n",
       "      <td>500</td>\n",
       "      <td></td>\n",
       "      <td></td>\n",
       "      <td>...</td>\n",
       "      <td></td>\n",
       "      <td></td>\n",
       "      <td></td>\n",
       "      <td></td>\n",
       "      <td></td>\n",
       "      <td></td>\n",
       "      <td></td>\n",
       "      <td>2009</td>\n",
       "      <td>5</td>\n",
       "      <td>15.242597</td>\n",
       "    </tr>\n",
       "    <tr>\n",
       "      <th>6291384</th>\n",
       "      <td>1829710</td>\n",
       "      <td>11635</td>\n",
       "      <td>149</td>\n",
       "      <td>1.0</td>\n",
       "      <td>1993.757403</td>\n",
       "      <td>0.0</td>\n",
       "      <td></td>\n",
       "      <td>EX60</td>\n",
       "      <td>URG</td>\n",
       "      <td></td>\n",
       "      <td>...</td>\n",
       "      <td></td>\n",
       "      <td>Double</td>\n",
       "      <td></td>\n",
       "      <td></td>\n",
       "      <td></td>\n",
       "      <td></td>\n",
       "      <td></td>\n",
       "      <td>2011</td>\n",
       "      <td>10</td>\n",
       "      <td>17.242597</td>\n",
       "    </tr>\n",
       "    <tr>\n",
       "      <th>2334130</th>\n",
       "      <td>1272847</td>\n",
       "      <td>1876</td>\n",
       "      <td>136</td>\n",
       "      <td>12.0</td>\n",
       "      <td>1993.000000</td>\n",
       "      <td>0.0</td>\n",
       "      <td></td>\n",
       "      <td>550</td>\n",
       "      <td>G</td>\n",
       "      <td></td>\n",
       "      <td>...</td>\n",
       "      <td></td>\n",
       "      <td></td>\n",
       "      <td></td>\n",
       "      <td>PAT</td>\n",
       "      <td></td>\n",
       "      <td></td>\n",
       "      <td></td>\n",
       "      <td>2008</td>\n",
       "      <td>9</td>\n",
       "      <td>15.000000</td>\n",
       "    </tr>\n",
       "    <tr>\n",
       "      <th>6291441</th>\n",
       "      <td>1790892</td>\n",
       "      <td>11633</td>\n",
       "      <td>149</td>\n",
       "      <td>1.0</td>\n",
       "      <td>1994.000000</td>\n",
       "      <td>0.0</td>\n",
       "      <td></td>\n",
       "      <td>EX60</td>\n",
       "      <td></td>\n",
       "      <td>-2</td>\n",
       "      <td>...</td>\n",
       "      <td></td>\n",
       "      <td>Double</td>\n",
       "      <td></td>\n",
       "      <td></td>\n",
       "      <td></td>\n",
       "      <td></td>\n",
       "      <td></td>\n",
       "      <td>2011</td>\n",
       "      <td>9</td>\n",
       "      <td>17.000000</td>\n",
       "    </tr>\n",
       "  </tbody>\n",
       "</table>\n",
       "<p>401125 rows × 52 columns</p>\n",
       "</div>"
      ],
      "text/plain": [
       "         MachineID  ModelID  datasource  auctioneerID     YearMade  \\\n",
       "SalesID                                                              \n",
       "2334131    1456138     4665         136           8.0  1993.000000   \n",
       "6291474    1821164    15154         149           1.0  1996.000000   \n",
       "2334132    1684175     4640         136          -1.0  1993.000000   \n",
       "6291521    1910631     8713         149           1.0  1989.000000   \n",
       "6291529    1813932    11585         149          12.0  1993.757403   \n",
       "...            ...      ...         ...           ...          ...   \n",
       "6291341    1534873     8724         149           1.0  1989.000000   \n",
       "2334127    1272847     8174         136           9.0  1993.757403   \n",
       "6291384    1829710    11635         149           1.0  1993.757403   \n",
       "2334130    1272847     1876         136          12.0  1993.000000   \n",
       "6291441    1790892    11633         149           1.0  1994.000000   \n",
       "\n",
       "         MachineHoursCurrentMeter UsageBand fiBaseModel fiSecondaryDesc  \\\n",
       "SalesID                                                                   \n",
       "2334131                       0.0                   450               G   \n",
       "6291474                       0.0                  EX60                   \n",
       "2334132                       0.0                   410               D   \n",
       "6291521                       0.0                 EX120                   \n",
       "6291529                       0.0                 EX100                   \n",
       "...                           ...       ...         ...             ...   \n",
       "6291341                       0.0                  EX60                   \n",
       "2334127                       0.0                   500                   \n",
       "6291384                       0.0                  EX60             URG   \n",
       "2334130                       0.0                   550               G   \n",
       "6291441                       0.0                  EX60                   \n",
       "\n",
       "        fiModelSeries  ... Pattern_Changer Grouser_Type Backhoe_Mounting  \\\n",
       "SalesID                ...                                                 \n",
       "2334131                ...                                                 \n",
       "6291474            LC  ...                       Double                    \n",
       "2334132                ...                                                 \n",
       "6291521                ...                       Double                    \n",
       "6291529            -2  ...                       Double                    \n",
       "...               ...  ...             ...          ...              ...   \n",
       "6291341                ...                       Double                    \n",
       "2334127                ...                                                 \n",
       "6291384                ...                       Double                    \n",
       "2334130                ...                                                 \n",
       "6291441            -2  ...                       Double                    \n",
       "\n",
       "        Blade_Type Travel_Controls Differential_Type Steering_Controls  \\\n",
       "SalesID                                                                  \n",
       "2334131        PAT                                                       \n",
       "6291474                                                                  \n",
       "2334132                                                                  \n",
       "6291521                                                                  \n",
       "6291529                                                                  \n",
       "...            ...             ...               ...               ...   \n",
       "6291341                                                                  \n",
       "2334127                                                                  \n",
       "6291384                                                                  \n",
       "2334130        PAT                                                       \n",
       "6291441                                                                  \n",
       "\n",
       "        SaleYear SaleMonth  OwnPeriod  \n",
       "SalesID                                \n",
       "2334131     2008         7  15.000000  \n",
       "6291474     2011        10  15.000000  \n",
       "2334132     2008        12  15.000000  \n",
       "6291521     2011        11  22.000000  \n",
       "6291529     2011         9  17.242597  \n",
       "...          ...       ...        ...  \n",
       "6291341     2011         9  22.000000  \n",
       "2334127     2009         5  15.242597  \n",
       "6291384     2011        10  17.242597  \n",
       "2334130     2008         9  15.000000  \n",
       "6291441     2011         9  17.000000  \n",
       "\n",
       "[401125 rows x 52 columns]"
      ]
     },
     "execution_count": 12,
     "metadata": {},
     "output_type": "execute_result"
    }
   ],
   "source": [
    "df_train_x"
   ]
  },
  {
   "cell_type": "code",
   "execution_count": 13,
   "metadata": {},
   "outputs": [],
   "source": [
    "cat_cols_small = [i for i in cat_cols if df[i].nunique() < 6]\n",
    "cat_cols_large = [i for i in cat_cols if df[i].nunique() >= 6]\n",
    "\n",
    "# One Hot Encoding for cat_cols_small\n",
    "encoded = pd.get_dummies(df[cat_cols_small])\n",
    "df = pd.concat([df, encoded],axis=1)\n",
    "df.drop(cat_cols_small, axis=1, inplace=True)\n",
    "\n",
    "# Label Encoding for cat_cols_large\n",
    "for cat in cat_cols_large:\n",
    "    enc = LabelEncoder()\n",
    "    df[cat + '_encoded'] = enc.fit_transform(df[cat].astype(str))\n",
    "    df.drop(cat, axis=1, inplace=True)\n"
   ]
  },
  {
   "cell_type": "code",
   "execution_count": 14,
   "metadata": {},
   "outputs": [],
   "source": [
    "df_train_x = df.loc[train_index]\n",
    "df_valid_x = df.loc[valid_index]\n",
    "df_test_x = df.loc[test_index]"
   ]
  },
  {
   "cell_type": "code",
   "execution_count": 15,
   "metadata": {
    "scrolled": true
   },
   "outputs": [
    {
     "data": {
      "text/plain": [
       "[]"
      ]
     },
     "execution_count": 15,
     "metadata": {},
     "output_type": "execute_result"
    }
   ],
   "source": [
    "#Make sure all values in columns are not object type\n",
    "[i for i in df_train_x.columns if df_train_x[i].dtype == 'object'] # Should be empty"
   ]
  },
  {
   "cell_type": "markdown",
   "metadata": {},
   "source": [
    "## Modeling\n",
    "* XGB regressor\n",
    "* Random Forest regressor\n",
    "* Linear Regressor\n",
    "* SVM\n",
    "\n",
    "#### But before, we need to define custom scoring function for RMSLE"
   ]
  },
  {
   "cell_type": "code",
   "execution_count": 16,
   "metadata": {},
   "outputs": [],
   "source": [
    "def rmsle(y_true, y_pred):\n",
    "    y_true = np.array(y_true)\n",
    "    y_pred = np.array(y_pred)\n",
    "    n = len(y_true)\n",
    "    \n",
    "    log_diff = (np.log(y_true + 1) - np.log(y_pred + 1))**2\n",
    "    \n",
    "    return np.sqrt(np.sum(log_diff)/n) \n",
    "\n",
    "# Make scorer\n",
    "score = make_scorer(rmsle)"
   ]
  },
  {
   "cell_type": "code",
   "execution_count": 17,
   "metadata": {},
   "outputs": [
    {
     "data": {
      "text/plain": [
       "\"\\n# XGB regressor \\nxgb = XGBRegressor()\\nparams = {'n_estimators':[10,20,50], 'max_depth':[10,20,50], 'learning_rate':[0.01,0.05,0.1]}\\n\\nreg = RandomizedSearchCV(xgb, params, n_iter=20, cv=5, scoring=score, n_jobs=-1, verbose=True)\\nreg.fit(df_train_x, df_train_y)\\n\""
      ]
     },
     "execution_count": 17,
     "metadata": {},
     "output_type": "execute_result"
    }
   ],
   "source": [
    "\"\"\"\n",
    "# XGB regressor \n",
    "xgb = XGBRegressor()\n",
    "params = {'n_estimators':[10,20,50], 'max_depth':[10,20,50], 'learning_rate':[0.01,0.05,0.1]}\n",
    "\n",
    "reg = RandomizedSearchCV(xgb, params, n_iter=20, cv=5, scoring=score, n_jobs=-1, verbose=True)\n",
    "reg.fit(df_train_x, df_train_y)\n",
    "\"\"\"\n",
    "\n",
    "# Takes too long."
   ]
  },
  {
   "cell_type": "code",
   "execution_count": 18,
   "metadata": {},
   "outputs": [
    {
     "data": {
      "text/plain": [
       "SalesID\n",
       "2334131    0.0\n",
       "6291474    0.0\n",
       "2334132    0.0\n",
       "6291521    0.0\n",
       "6291529    0.0\n",
       "          ... \n",
       "6291341    0.0\n",
       "2334127    0.0\n",
       "6291384    0.0\n",
       "2334130    0.0\n",
       "6291441    0.0\n",
       "Name: MachineHoursCurrentMeter, Length: 401125, dtype: float64"
      ]
     },
     "execution_count": 18,
     "metadata": {},
     "output_type": "execute_result"
    }
   ],
   "source": [
    "df_train_x['MachineHoursCurrentMeter']"
   ]
  },
  {
   "cell_type": "code",
   "execution_count": 19,
   "metadata": {},
   "outputs": [
    {
     "name": "stdout",
     "output_type": "stream",
     "text": [
      "[00:19:46] WARNING: src/objective/regression_obj.cu:152: reg:linear is now deprecated in favor of reg:squarederror.\n"
     ]
    },
    {
     "data": {
      "text/plain": [
       "0.9652609594793274"
      ]
     },
     "execution_count": 19,
     "metadata": {},
     "output_type": "execute_result"
    }
   ],
   "source": [
    "# XGB Regressor\n",
    "xgb = XGBRegressor(n_estimators=50,learning_rate=0.01,n_jobs=-1,random_state=42, verbose=True, scoring=score)\n",
    "xgb.fit(df_train_x, df_train_y)\n",
    "pred_val = xgb.predict(df_valid_x)\n",
    "rmsle(df_valid_y.SalePrice, pred_val)\n"
   ]
  },
  {
   "cell_type": "code",
   "execution_count": 20,
   "metadata": {},
   "outputs": [
    {
     "name": "stderr",
     "output_type": "stream",
     "text": [
      "[Parallel(n_jobs=-1)]: Using backend ThreadingBackend with 4 concurrent workers.\n",
      "[Parallel(n_jobs=-1)]: Done  42 tasks      | elapsed:  2.2min\n",
      "[Parallel(n_jobs=-1)]: Done  50 out of  50 | elapsed:  2.5min finished\n",
      "[Parallel(n_jobs=4)]: Using backend ThreadingBackend with 4 concurrent workers.\n",
      "[Parallel(n_jobs=4)]: Done  42 tasks      | elapsed:    0.0s\n",
      "[Parallel(n_jobs=4)]: Done  50 out of  50 | elapsed:    0.0s finished\n"
     ]
    },
    {
     "data": {
      "text/plain": [
       "0.25811370559191327"
      ]
     },
     "execution_count": 20,
     "metadata": {},
     "output_type": "execute_result"
    }
   ],
   "source": [
    "# Random Forest Regressor\n",
    "rf = RandomForestRegressor(n_estimators=50, min_samples_split=3, n_jobs=-1, random_state=42, verbose=True)\n",
    "rf.fit(df_train_x, df_train_y)\n",
    "pred_val = rf.predict(df_valid_x)\n",
    "rmsle(df_valid_y.SalePrice, pred_val)"
   ]
  },
  {
   "cell_type": "markdown",
   "metadata": {},
   "source": [
    "#### Random Forest Regressor performs a lot better even without parameter tuning\n",
    "Let's try Grid Search"
   ]
  },
  {
   "cell_type": "code",
   "execution_count": 21,
   "metadata": {},
   "outputs": [
    {
     "name": "stdout",
     "output_type": "stream",
     "text": [
      "Fitting 5 folds for each of 10 candidates, totalling 50 fits\n"
     ]
    },
    {
     "name": "stderr",
     "output_type": "stream",
     "text": [
      "[Parallel(n_jobs=-1)]: Using backend LokyBackend with 4 concurrent workers.\n"
     ]
    },
    {
     "ename": "KeyboardInterrupt",
     "evalue": "",
     "output_type": "error",
     "traceback": [
      "\u001b[1;31m---------------------------------------------------------------------------\u001b[0m",
      "\u001b[1;31mKeyboardInterrupt\u001b[0m                         Traceback (most recent call last)",
      "\u001b[1;32m<ipython-input-21-ab4317d52875>\u001b[0m in \u001b[0;36m<module>\u001b[1;34m\u001b[0m\n\u001b[0;32m      4\u001b[0m \u001b[1;33m\u001b[0m\u001b[0m\n\u001b[0;32m      5\u001b[0m \u001b[0mreg\u001b[0m \u001b[1;33m=\u001b[0m \u001b[0mRandomizedSearchCV\u001b[0m\u001b[1;33m(\u001b[0m\u001b[0mrf\u001b[0m\u001b[1;33m,\u001b[0m \u001b[0mparams\u001b[0m\u001b[1;33m,\u001b[0m \u001b[0mn_iter\u001b[0m\u001b[1;33m=\u001b[0m\u001b[1;36m10\u001b[0m\u001b[1;33m,\u001b[0m \u001b[0mcv\u001b[0m\u001b[1;33m=\u001b[0m\u001b[1;36m5\u001b[0m\u001b[1;33m,\u001b[0m \u001b[0mscoring\u001b[0m\u001b[1;33m=\u001b[0m\u001b[0mscore\u001b[0m\u001b[1;33m,\u001b[0m \u001b[0mn_jobs\u001b[0m\u001b[1;33m=\u001b[0m\u001b[1;33m-\u001b[0m\u001b[1;36m1\u001b[0m\u001b[1;33m,\u001b[0m \u001b[0mverbose\u001b[0m\u001b[1;33m=\u001b[0m\u001b[1;36m10\u001b[0m\u001b[1;33m)\u001b[0m\u001b[1;33m\u001b[0m\u001b[1;33m\u001b[0m\u001b[0m\n\u001b[1;32m----> 6\u001b[1;33m \u001b[0mreg\u001b[0m\u001b[1;33m.\u001b[0m\u001b[0mfit\u001b[0m\u001b[1;33m(\u001b[0m\u001b[0mdf_train_x\u001b[0m\u001b[1;33m,\u001b[0m \u001b[0mdf_train_y\u001b[0m\u001b[1;33m)\u001b[0m\u001b[1;33m\u001b[0m\u001b[1;33m\u001b[0m\u001b[0m\n\u001b[0m",
      "\u001b[1;32m~\\anaconda3\\envs\\py37\\lib\\site-packages\\sklearn\\utils\\validation.py\u001b[0m in \u001b[0;36minner_f\u001b[1;34m(*args, **kwargs)\u001b[0m\n\u001b[0;32m     71\u001b[0m                           FutureWarning)\n\u001b[0;32m     72\u001b[0m         \u001b[0mkwargs\u001b[0m\u001b[1;33m.\u001b[0m\u001b[0mupdate\u001b[0m\u001b[1;33m(\u001b[0m\u001b[1;33m{\u001b[0m\u001b[0mk\u001b[0m\u001b[1;33m:\u001b[0m \u001b[0marg\u001b[0m \u001b[1;32mfor\u001b[0m \u001b[0mk\u001b[0m\u001b[1;33m,\u001b[0m \u001b[0marg\u001b[0m \u001b[1;32min\u001b[0m \u001b[0mzip\u001b[0m\u001b[1;33m(\u001b[0m\u001b[0msig\u001b[0m\u001b[1;33m.\u001b[0m\u001b[0mparameters\u001b[0m\u001b[1;33m,\u001b[0m \u001b[0margs\u001b[0m\u001b[1;33m)\u001b[0m\u001b[1;33m}\u001b[0m\u001b[1;33m)\u001b[0m\u001b[1;33m\u001b[0m\u001b[1;33m\u001b[0m\u001b[0m\n\u001b[1;32m---> 73\u001b[1;33m         \u001b[1;32mreturn\u001b[0m \u001b[0mf\u001b[0m\u001b[1;33m(\u001b[0m\u001b[1;33m**\u001b[0m\u001b[0mkwargs\u001b[0m\u001b[1;33m)\u001b[0m\u001b[1;33m\u001b[0m\u001b[1;33m\u001b[0m\u001b[0m\n\u001b[0m\u001b[0;32m     74\u001b[0m     \u001b[1;32mreturn\u001b[0m \u001b[0minner_f\u001b[0m\u001b[1;33m\u001b[0m\u001b[1;33m\u001b[0m\u001b[0m\n\u001b[0;32m     75\u001b[0m \u001b[1;33m\u001b[0m\u001b[0m\n",
      "\u001b[1;32m~\\anaconda3\\envs\\py37\\lib\\site-packages\\sklearn\\model_selection\\_search.py\u001b[0m in \u001b[0;36mfit\u001b[1;34m(self, X, y, groups, **fit_params)\u001b[0m\n\u001b[0;32m    734\u001b[0m                 \u001b[1;32mreturn\u001b[0m \u001b[0mresults\u001b[0m\u001b[1;33m\u001b[0m\u001b[1;33m\u001b[0m\u001b[0m\n\u001b[0;32m    735\u001b[0m \u001b[1;33m\u001b[0m\u001b[0m\n\u001b[1;32m--> 736\u001b[1;33m             \u001b[0mself\u001b[0m\u001b[1;33m.\u001b[0m\u001b[0m_run_search\u001b[0m\u001b[1;33m(\u001b[0m\u001b[0mevaluate_candidates\u001b[0m\u001b[1;33m)\u001b[0m\u001b[1;33m\u001b[0m\u001b[1;33m\u001b[0m\u001b[0m\n\u001b[0m\u001b[0;32m    737\u001b[0m \u001b[1;33m\u001b[0m\u001b[0m\n\u001b[0;32m    738\u001b[0m         \u001b[1;31m# For multi-metric evaluation, store the best_index_, best_params_ and\u001b[0m\u001b[1;33m\u001b[0m\u001b[1;33m\u001b[0m\u001b[1;33m\u001b[0m\u001b[0m\n",
      "\u001b[1;32m~\\anaconda3\\envs\\py37\\lib\\site-packages\\sklearn\\model_selection\\_search.py\u001b[0m in \u001b[0;36m_run_search\u001b[1;34m(self, evaluate_candidates)\u001b[0m\n\u001b[0;32m   1529\u001b[0m         evaluate_candidates(ParameterSampler(\n\u001b[0;32m   1530\u001b[0m             \u001b[0mself\u001b[0m\u001b[1;33m.\u001b[0m\u001b[0mparam_distributions\u001b[0m\u001b[1;33m,\u001b[0m \u001b[0mself\u001b[0m\u001b[1;33m.\u001b[0m\u001b[0mn_iter\u001b[0m\u001b[1;33m,\u001b[0m\u001b[1;33m\u001b[0m\u001b[1;33m\u001b[0m\u001b[0m\n\u001b[1;32m-> 1531\u001b[1;33m             random_state=self.random_state))\n\u001b[0m",
      "\u001b[1;32m~\\anaconda3\\envs\\py37\\lib\\site-packages\\sklearn\\model_selection\\_search.py\u001b[0m in \u001b[0;36mevaluate_candidates\u001b[1;34m(candidate_params)\u001b[0m\n\u001b[0;32m    713\u001b[0m                                \u001b[1;32mfor\u001b[0m \u001b[0mparameters\u001b[0m\u001b[1;33m,\u001b[0m \u001b[1;33m(\u001b[0m\u001b[0mtrain\u001b[0m\u001b[1;33m,\u001b[0m \u001b[0mtest\u001b[0m\u001b[1;33m)\u001b[0m\u001b[1;33m\u001b[0m\u001b[1;33m\u001b[0m\u001b[0m\n\u001b[0;32m    714\u001b[0m                                in product(candidate_params,\n\u001b[1;32m--> 715\u001b[1;33m                                           cv.split(X, y, groups)))\n\u001b[0m\u001b[0;32m    716\u001b[0m \u001b[1;33m\u001b[0m\u001b[0m\n\u001b[0;32m    717\u001b[0m                 \u001b[1;32mif\u001b[0m \u001b[0mlen\u001b[0m\u001b[1;33m(\u001b[0m\u001b[0mout\u001b[0m\u001b[1;33m)\u001b[0m \u001b[1;33m<\u001b[0m \u001b[1;36m1\u001b[0m\u001b[1;33m:\u001b[0m\u001b[1;33m\u001b[0m\u001b[1;33m\u001b[0m\u001b[0m\n",
      "\u001b[1;32m~\\anaconda3\\envs\\py37\\lib\\site-packages\\joblib\\parallel.py\u001b[0m in \u001b[0;36m__call__\u001b[1;34m(self, iterable)\u001b[0m\n\u001b[0;32m   1040\u001b[0m \u001b[1;33m\u001b[0m\u001b[0m\n\u001b[0;32m   1041\u001b[0m             \u001b[1;32mwith\u001b[0m \u001b[0mself\u001b[0m\u001b[1;33m.\u001b[0m\u001b[0m_backend\u001b[0m\u001b[1;33m.\u001b[0m\u001b[0mretrieval_context\u001b[0m\u001b[1;33m(\u001b[0m\u001b[1;33m)\u001b[0m\u001b[1;33m:\u001b[0m\u001b[1;33m\u001b[0m\u001b[1;33m\u001b[0m\u001b[0m\n\u001b[1;32m-> 1042\u001b[1;33m                 \u001b[0mself\u001b[0m\u001b[1;33m.\u001b[0m\u001b[0mretrieve\u001b[0m\u001b[1;33m(\u001b[0m\u001b[1;33m)\u001b[0m\u001b[1;33m\u001b[0m\u001b[1;33m\u001b[0m\u001b[0m\n\u001b[0m\u001b[0;32m   1043\u001b[0m             \u001b[1;31m# Make sure that we get a last message telling us we are done\u001b[0m\u001b[1;33m\u001b[0m\u001b[1;33m\u001b[0m\u001b[1;33m\u001b[0m\u001b[0m\n\u001b[0;32m   1044\u001b[0m             \u001b[0melapsed_time\u001b[0m \u001b[1;33m=\u001b[0m \u001b[0mtime\u001b[0m\u001b[1;33m.\u001b[0m\u001b[0mtime\u001b[0m\u001b[1;33m(\u001b[0m\u001b[1;33m)\u001b[0m \u001b[1;33m-\u001b[0m \u001b[0mself\u001b[0m\u001b[1;33m.\u001b[0m\u001b[0m_start_time\u001b[0m\u001b[1;33m\u001b[0m\u001b[1;33m\u001b[0m\u001b[0m\n",
      "\u001b[1;32m~\\anaconda3\\envs\\py37\\lib\\site-packages\\joblib\\parallel.py\u001b[0m in \u001b[0;36mretrieve\u001b[1;34m(self)\u001b[0m\n\u001b[0;32m    919\u001b[0m             \u001b[1;32mtry\u001b[0m\u001b[1;33m:\u001b[0m\u001b[1;33m\u001b[0m\u001b[1;33m\u001b[0m\u001b[0m\n\u001b[0;32m    920\u001b[0m                 \u001b[1;32mif\u001b[0m \u001b[0mgetattr\u001b[0m\u001b[1;33m(\u001b[0m\u001b[0mself\u001b[0m\u001b[1;33m.\u001b[0m\u001b[0m_backend\u001b[0m\u001b[1;33m,\u001b[0m \u001b[1;34m'supports_timeout'\u001b[0m\u001b[1;33m,\u001b[0m \u001b[1;32mFalse\u001b[0m\u001b[1;33m)\u001b[0m\u001b[1;33m:\u001b[0m\u001b[1;33m\u001b[0m\u001b[1;33m\u001b[0m\u001b[0m\n\u001b[1;32m--> 921\u001b[1;33m                     \u001b[0mself\u001b[0m\u001b[1;33m.\u001b[0m\u001b[0m_output\u001b[0m\u001b[1;33m.\u001b[0m\u001b[0mextend\u001b[0m\u001b[1;33m(\u001b[0m\u001b[0mjob\u001b[0m\u001b[1;33m.\u001b[0m\u001b[0mget\u001b[0m\u001b[1;33m(\u001b[0m\u001b[0mtimeout\u001b[0m\u001b[1;33m=\u001b[0m\u001b[0mself\u001b[0m\u001b[1;33m.\u001b[0m\u001b[0mtimeout\u001b[0m\u001b[1;33m)\u001b[0m\u001b[1;33m)\u001b[0m\u001b[1;33m\u001b[0m\u001b[1;33m\u001b[0m\u001b[0m\n\u001b[0m\u001b[0;32m    922\u001b[0m                 \u001b[1;32melse\u001b[0m\u001b[1;33m:\u001b[0m\u001b[1;33m\u001b[0m\u001b[1;33m\u001b[0m\u001b[0m\n\u001b[0;32m    923\u001b[0m                     \u001b[0mself\u001b[0m\u001b[1;33m.\u001b[0m\u001b[0m_output\u001b[0m\u001b[1;33m.\u001b[0m\u001b[0mextend\u001b[0m\u001b[1;33m(\u001b[0m\u001b[0mjob\u001b[0m\u001b[1;33m.\u001b[0m\u001b[0mget\u001b[0m\u001b[1;33m(\u001b[0m\u001b[1;33m)\u001b[0m\u001b[1;33m)\u001b[0m\u001b[1;33m\u001b[0m\u001b[1;33m\u001b[0m\u001b[0m\n",
      "\u001b[1;32m~\\anaconda3\\envs\\py37\\lib\\site-packages\\joblib\\_parallel_backends.py\u001b[0m in \u001b[0;36mwrap_future_result\u001b[1;34m(future, timeout)\u001b[0m\n\u001b[0;32m    540\u001b[0m         AsyncResults.get from multiprocessing.\"\"\"\n\u001b[0;32m    541\u001b[0m         \u001b[1;32mtry\u001b[0m\u001b[1;33m:\u001b[0m\u001b[1;33m\u001b[0m\u001b[1;33m\u001b[0m\u001b[0m\n\u001b[1;32m--> 542\u001b[1;33m             \u001b[1;32mreturn\u001b[0m \u001b[0mfuture\u001b[0m\u001b[1;33m.\u001b[0m\u001b[0mresult\u001b[0m\u001b[1;33m(\u001b[0m\u001b[0mtimeout\u001b[0m\u001b[1;33m=\u001b[0m\u001b[0mtimeout\u001b[0m\u001b[1;33m)\u001b[0m\u001b[1;33m\u001b[0m\u001b[1;33m\u001b[0m\u001b[0m\n\u001b[0m\u001b[0;32m    543\u001b[0m         \u001b[1;32mexcept\u001b[0m \u001b[0mCfTimeoutError\u001b[0m \u001b[1;32mas\u001b[0m \u001b[0me\u001b[0m\u001b[1;33m:\u001b[0m\u001b[1;33m\u001b[0m\u001b[1;33m\u001b[0m\u001b[0m\n\u001b[0;32m    544\u001b[0m             \u001b[1;32mraise\u001b[0m \u001b[0mTimeoutError\u001b[0m \u001b[1;32mfrom\u001b[0m \u001b[0me\u001b[0m\u001b[1;33m\u001b[0m\u001b[1;33m\u001b[0m\u001b[0m\n",
      "\u001b[1;32m~\\anaconda3\\envs\\py37\\lib\\concurrent\\futures\\_base.py\u001b[0m in \u001b[0;36mresult\u001b[1;34m(self, timeout)\u001b[0m\n\u001b[0;32m    428\u001b[0m                 \u001b[1;32mreturn\u001b[0m \u001b[0mself\u001b[0m\u001b[1;33m.\u001b[0m\u001b[0m__get_result\u001b[0m\u001b[1;33m(\u001b[0m\u001b[1;33m)\u001b[0m\u001b[1;33m\u001b[0m\u001b[1;33m\u001b[0m\u001b[0m\n\u001b[0;32m    429\u001b[0m \u001b[1;33m\u001b[0m\u001b[0m\n\u001b[1;32m--> 430\u001b[1;33m             \u001b[0mself\u001b[0m\u001b[1;33m.\u001b[0m\u001b[0m_condition\u001b[0m\u001b[1;33m.\u001b[0m\u001b[0mwait\u001b[0m\u001b[1;33m(\u001b[0m\u001b[0mtimeout\u001b[0m\u001b[1;33m)\u001b[0m\u001b[1;33m\u001b[0m\u001b[1;33m\u001b[0m\u001b[0m\n\u001b[0m\u001b[0;32m    431\u001b[0m \u001b[1;33m\u001b[0m\u001b[0m\n\u001b[0;32m    432\u001b[0m             \u001b[1;32mif\u001b[0m \u001b[0mself\u001b[0m\u001b[1;33m.\u001b[0m\u001b[0m_state\u001b[0m \u001b[1;32min\u001b[0m \u001b[1;33m[\u001b[0m\u001b[0mCANCELLED\u001b[0m\u001b[1;33m,\u001b[0m \u001b[0mCANCELLED_AND_NOTIFIED\u001b[0m\u001b[1;33m]\u001b[0m\u001b[1;33m:\u001b[0m\u001b[1;33m\u001b[0m\u001b[1;33m\u001b[0m\u001b[0m\n",
      "\u001b[1;32m~\\anaconda3\\envs\\py37\\lib\\threading.py\u001b[0m in \u001b[0;36mwait\u001b[1;34m(self, timeout)\u001b[0m\n\u001b[0;32m    294\u001b[0m         \u001b[1;32mtry\u001b[0m\u001b[1;33m:\u001b[0m    \u001b[1;31m# restore state no matter what (e.g., KeyboardInterrupt)\u001b[0m\u001b[1;33m\u001b[0m\u001b[1;33m\u001b[0m\u001b[0m\n\u001b[0;32m    295\u001b[0m             \u001b[1;32mif\u001b[0m \u001b[0mtimeout\u001b[0m \u001b[1;32mis\u001b[0m \u001b[1;32mNone\u001b[0m\u001b[1;33m:\u001b[0m\u001b[1;33m\u001b[0m\u001b[1;33m\u001b[0m\u001b[0m\n\u001b[1;32m--> 296\u001b[1;33m                 \u001b[0mwaiter\u001b[0m\u001b[1;33m.\u001b[0m\u001b[0macquire\u001b[0m\u001b[1;33m(\u001b[0m\u001b[1;33m)\u001b[0m\u001b[1;33m\u001b[0m\u001b[1;33m\u001b[0m\u001b[0m\n\u001b[0m\u001b[0;32m    297\u001b[0m                 \u001b[0mgotit\u001b[0m \u001b[1;33m=\u001b[0m \u001b[1;32mTrue\u001b[0m\u001b[1;33m\u001b[0m\u001b[1;33m\u001b[0m\u001b[0m\n\u001b[0;32m    298\u001b[0m             \u001b[1;32melse\u001b[0m\u001b[1;33m:\u001b[0m\u001b[1;33m\u001b[0m\u001b[1;33m\u001b[0m\u001b[0m\n",
      "\u001b[1;31mKeyboardInterrupt\u001b[0m: "
     ]
    }
   ],
   "source": [
    "\"\"\"\n",
    "# Random Forest Regressor \n",
    "rf = RandomForestRegressor()\n",
    "params = {'n_estimators':[20,50,100], 'max_depth':[10,20,30], 'min_samples_split':[2,3,4]}\n",
    "\n",
    "reg = RandomizedSearchCV(rf, params, n_iter=10, cv=5, scoring=score, n_jobs=-1, verbose=10)\n",
    "reg.fit(df_train_x, df_train_y)\n",
    "\"\"\""
   ]
  },
  {
   "cell_type": "code",
   "execution_count": null,
   "metadata": {},
   "outputs": [],
   "source": [
    "display(reg.best_estimator_)\n",
    "pred_val = reg.predict(df_valid_x)\n",
    "rmsle(df_valid_y.SalePrice, pred_val)"
   ]
  }
 ],
 "metadata": {
  "kernelspec": {
   "display_name": "Python 3",
   "language": "python",
   "name": "python3"
  },
  "language_info": {
   "codemirror_mode": {
    "name": "ipython",
    "version": 3
   },
   "file_extension": ".py",
   "mimetype": "text/x-python",
   "name": "python",
   "nbconvert_exporter": "python",
   "pygments_lexer": "ipython3",
   "version": "3.7.7"
  }
 },
 "nbformat": 4,
 "nbformat_minor": 4
}
